{
  "cells": [
    {
      "cell_type": "markdown",
      "metadata": {
        "id": "view-in-github",
        "colab_type": "text"
      },
      "source": [
        "<a href=\"https://colab.research.google.com/github/AIInspire/Linear_Algebra/blob/main/Linear_Algebra_1.ipynb\" target=\"_parent\"><img src=\"https://colab.research.google.com/assets/colab-badge.svg\" alt=\"Open In Colab\"/></a>"
      ]
    },
    {
      "cell_type": "code",
      "execution_count": null,
      "id": "9c0d929f",
      "metadata": {
        "id": "9c0d929f"
      },
      "outputs": [],
      "source": [
        "import numpy as np"
      ]
    },
    {
      "cell_type": "markdown",
      "id": "c56a1fa4",
      "metadata": {
        "id": "c56a1fa4"
      },
      "source": [
        "## Warm Up: Practice some NumPy commands:\n",
        "- Create 3 * 3 array.\n",
        "- Check its shape.\n",
        "- Select first row.\n",
        "- Select 2nd column.\n",
        "- Select the 2nd element in the third column.\n",
        "- Create 2*2 from the first two elements of the first 2 rows and columns.\n",
        "- Create single row vector.\n",
        "- Create single column vector."
      ]
    },
    {
      "cell_type": "code",
      "execution_count": null,
      "id": "997f7eea",
      "metadata": {
        "id": "997f7eea",
        "colab": {
          "base_uri": "https://localhost:8080/"
        },
        "outputId": "5b1a14b2-39c3-48f4-afe4-95dc95bbc97e"
      },
      "outputs": [
        {
          "output_type": "stream",
          "name": "stdout",
          "text": [
            "[[1 2 3]\n",
            " [4 5 6]\n",
            " [7 8 9]]\n",
            "(3, 3)\n",
            "[1 2 3]\n",
            "[2 5 8]\n",
            "6\n",
            "[[1 2]\n",
            " [4 5]]\n",
            "[[1]\n",
            " [2]\n",
            " [3]]\n",
            "[1 2 3]\n"
          ]
        }
      ],
      "source": [
        "#Create 3 * 3 array.\n",
        "array = np.array([[1,2,3],[4,5,6],[7,8,9]])\n",
        "print(array)\n",
        "\n",
        "# Check its shape.\n",
        "print(array.shape)\n",
        "\n",
        "#Select first row.\n",
        "print(array[0])\n",
        "\n",
        "# select 2nd column\n",
        "print(array[:,1])\n",
        "\n",
        "#Select the 2nd element in the third column.\n",
        "print(array[1, 2])\n",
        "\n",
        "#Create 2*2 from the first two elements of the first 2 rows and columns.\n",
        "new_array = array[:2, :2]\n",
        "print(new_array)\n",
        "\n",
        "#Create single column vector.\n",
        "column_vector = np.array([[1], [2], [3]])\n",
        "print(column_vector)\n",
        "\n",
        "#Create single row vector.\n",
        "row_vector = np.array([1, 2, 3])\n",
        "print(row_vector)"
      ]
    },
    {
      "cell_type": "markdown",
      "id": "935d4b46",
      "metadata": {
        "id": "935d4b46"
      },
      "source": [
        "## System of linear equations:\n",
        "- The following system of linear equations can be represented as <b>Ax=b</b>.\n",
        "- Define matrix <b>A</b> and vector <b>b</b> as numpy arrays.\n",
        "- Print them out.\n",
        "1. $$3x-y=2$$ $$x=4 $$\n",
        "$$$$\n",
        "2. $$3x-2y=7$$  $$2x-2y=2$$\n",
        "$$$$\n",
        "3. $$3x-2y+z=7$$  $$x+y+z=2$$  $$3x-2y-z=3$$"
      ]
    },
    {
      "cell_type": "code",
      "source": [
        "A1 = np.array([[3, -1], [1, 0]])\n",
        "B1 = np.array([[2], [4]])\n",
        "print(\"A1: \\n\", A1)\n",
        "print(\"B1: \\n\", B1)"
      ],
      "metadata": {
        "colab": {
          "base_uri": "https://localhost:8080/"
        },
        "id": "me4tiUIpWqri",
        "outputId": "9738ffed-95f6-4e6b-e72a-aa1356aa96cf"
      },
      "id": "me4tiUIpWqri",
      "execution_count": null,
      "outputs": [
        {
          "output_type": "stream",
          "name": "stdout",
          "text": [
            "A1: \n",
            " [[ 3 -1]\n",
            " [ 1  0]]\n",
            "B1: \n",
            " [[2]\n",
            " [4]]\n"
          ]
        }
      ]
    },
    {
      "cell_type": "code",
      "source": [
        "A2 = np.array([[3, -2], [2, -2]])\n",
        "B2 = np.array([[7], [2]])\n",
        "print(\"A2: \\n\", A2)\n",
        "print(\"B2: \\n\", B2)"
      ],
      "metadata": {
        "colab": {
          "base_uri": "https://localhost:8080/"
        },
        "id": "MDWbLZyFXA1T",
        "outputId": "f806d806-dda9-47e7-a076-b14e19c367f2"
      },
      "id": "MDWbLZyFXA1T",
      "execution_count": null,
      "outputs": [
        {
          "output_type": "stream",
          "name": "stdout",
          "text": [
            "A2: \n",
            " [[ 3 -2]\n",
            " [ 2 -2]]\n",
            "B2: \n",
            " [[7]\n",
            " [2]]\n"
          ]
        }
      ]
    },
    {
      "cell_type": "code",
      "source": [
        "A3 = np.array([[3, -2, 1], [1, 1, 1], [3, -2, -1]])\n",
        "B3 = np.array([[7], [2], [3]])\n",
        "print(\"A3: \\n\", A3)\n",
        "print(\"B2: \\n\", B2)"
      ],
      "metadata": {
        "colab": {
          "base_uri": "https://localhost:8080/"
        },
        "id": "bnIp8oDGXAlk",
        "outputId": "fa6d4fee-7f88-49d7-fd45-dfa107b7928c"
      },
      "id": "bnIp8oDGXAlk",
      "execution_count": null,
      "outputs": [
        {
          "output_type": "stream",
          "name": "stdout",
          "text": [
            "A3: \n",
            " [[ 3 -2  1]\n",
            " [ 1  1  1]\n",
            " [ 3 -2 -1]]\n",
            "B2: \n",
            " [[7]\n",
            " [2]]\n"
          ]
        }
      ]
    },
    {
      "cell_type": "code",
      "execution_count": null,
      "id": "fd76ca8b",
      "metadata": {
        "scrolled": true,
        "id": "fd76ca8b",
        "outputId": "65e0aad4-571b-47c9-b7d2-5948479089ff"
      },
      "outputs": [
        {
          "name": "stdout",
          "output_type": "stream",
          "text": [
            "A1:\n",
            "[[ 3 -1]\n",
            " [ 1  0]]\n",
            "b1:[[2]\n",
            " [4]]\n",
            "\n",
            "A2:\n",
            "[[ 3 -2]\n",
            " [ 2 -2]]\n",
            "b1:[[7]\n",
            " [2]]\n",
            "\n",
            "A3:\n",
            "[[ 3 -2  1]\n",
            " [ 1  1  1]\n",
            " [ 3 -2 -1]]\n",
            "b1:[[7]\n",
            " [2]\n",
            " [3]]\n"
          ]
        }
      ],
      "source": []
    },
    {
      "cell_type": "markdown",
      "id": "6fa32a70",
      "metadata": {
        "id": "6fa32a70"
      },
      "source": [
        "### Find a solution for the above systems of equations using:\n",
        "<b>np.linalg.inv()</b>"
      ]
    },
    {
      "cell_type": "code",
      "execution_count": null,
      "id": "14ea2890",
      "metadata": {
        "id": "14ea2890",
        "colab": {
          "base_uri": "https://localhost:8080/"
        },
        "outputId": "94d9c035-6325-4977-d65a-b7b61800ea79"
      },
      "outputs": [
        {
          "output_type": "stream",
          "name": "stdout",
          "text": [
            "X1 = \n",
            " [[ 4.]\n",
            " [10.]]\n",
            "X2 = \n",
            " [[5.]\n",
            " [4.]]\n",
            "X3 = \n",
            " [[ 1.]\n",
            " [-1.]\n",
            " [ 2.]]\n"
          ]
        }
      ],
      "source": [
        "x1 = np.linalg.inv(A1).dot(B1)\n",
        "x2 = np.linalg.inv(A2).dot(B2)\n",
        "x3 = np.linalg.inv(A3).dot(B3)\n",
        "\n",
        "print(\"X1 = \\n\", x1)\n",
        "print(\"X2 = \\n\", x2)\n",
        "print(\"X3 = \\n\", x3)\n"
      ]
    },
    {
      "cell_type": "code",
      "execution_count": null,
      "id": "fd743ec7",
      "metadata": {
        "scrolled": false,
        "id": "fd743ec7",
        "outputId": "146375a5-294e-40a0-8bd5-cc640ef182b0"
      },
      "outputs": [
        {
          "name": "stdout",
          "output_type": "stream",
          "text": [
            "x1= [[ 4.]\n",
            " [10.]] \n",
            "\n",
            "x2= [[5.]\n",
            " [4.]] \n",
            "\n",
            "x3= [[ 1.]\n",
            " [-1.]\n",
            " [ 2.]]\n"
          ]
        }
      ],
      "source": []
    },
    {
      "cell_type": "markdown",
      "id": "6213a04c",
      "metadata": {
        "id": "6213a04c"
      },
      "source": [
        "### Find a solution for the above systems of equations using:\n",
        "<b>np.linalg.solve()</b>"
      ]
    },
    {
      "cell_type": "code",
      "execution_count": null,
      "id": "e2dba8f6",
      "metadata": {
        "id": "e2dba8f6",
        "outputId": "85e76f2b-b0c7-448b-e83c-e5a7c787d8e6"
      },
      "outputs": [
        {
          "name": "stdout",
          "output_type": "stream",
          "text": [
            "x1= [[ 4.]\n",
            " [10.]] \n",
            "\n",
            "x2= [[5.]\n",
            " [4.]] \n",
            "\n",
            "x3= [[ 1.]\n",
            " [-1.]\n",
            " [ 2.]]\n"
          ]
        }
      ],
      "source": []
    },
    {
      "cell_type": "markdown",
      "id": "35de5d9a",
      "metadata": {
        "id": "35de5d9a"
      },
      "source": [
        "## Using numpy arrays\n",
        "- For the above systems of equations, multiply matrix <b>A</b> and vector <b>x</b> and make sure the result is <b>b</b>."
      ]
    },
    {
      "cell_type": "code",
      "execution_count": null,
      "id": "587ad6d5",
      "metadata": {
        "scrolled": false,
        "id": "587ad6d5",
        "outputId": "c378c898-4915-4f2f-c2f3-acbd769bee53",
        "colab": {
          "base_uri": "https://localhost:8080/"
        }
      },
      "outputs": [
        {
          "output_type": "stream",
          "name": "stdout",
          "text": [
            "produced B:  [[2.]\n",
            " [4.]]\n",
            "expected B:  [[2]\n",
            " [4]]\n"
          ]
        }
      ],
      "source": [
        "test_b1 = A1.dot(x1)\n",
        "print(\"produced B: \", test_b1)\n",
        "print(\"expected B: \", B1)"
      ]
    },
    {
      "cell_type": "code",
      "source": [
        "test_b2 = A2.dot(x2)\n",
        "print(\"produced B: \", test_b2)\n",
        "print(\"expected B: \", B2)"
      ],
      "metadata": {
        "colab": {
          "base_uri": "https://localhost:8080/"
        },
        "id": "Q6XbUxTOb-vD",
        "outputId": "be4dac9d-f297-4672-950b-0d799efd2a04"
      },
      "id": "Q6XbUxTOb-vD",
      "execution_count": null,
      "outputs": [
        {
          "output_type": "stream",
          "name": "stdout",
          "text": [
            "produced B:  [[7.]\n",
            " [2.]]\n",
            "expected B:  [[7]\n",
            " [2]]\n"
          ]
        }
      ]
    },
    {
      "cell_type": "code",
      "execution_count": null,
      "id": "3cc9cd71",
      "metadata": {
        "id": "3cc9cd71",
        "outputId": "1a71a199-aa6a-4523-ffb4-5c9b74be37d4",
        "colab": {
          "base_uri": "https://localhost:8080/"
        }
      },
      "outputs": [
        {
          "output_type": "stream",
          "name": "stdout",
          "text": [
            "produced B:  [[7.]\n",
            " [2.]\n",
            " [3.]]\n",
            "expected B:  [[7]\n",
            " [2]\n",
            " [3]]\n"
          ]
        }
      ],
      "source": [
        "test_b3 = A3.dot(x3)\n",
        "print(\"produced B: \", test_b3)\n",
        "print(\"expected B: \", B3)"
      ]
    },
    {
      "cell_type": "markdown",
      "id": "5b20d61b",
      "metadata": {
        "id": "5b20d61b"
      },
      "source": [
        "## Vector Norms"
      ]
    },
    {
      "cell_type": "markdown",
      "id": "053d9605",
      "metadata": {
        "id": "053d9605"
      },
      "source": [
        "### Calculate using numpy linalg.norm().\n",
        "- Calculate L1, L2, Lmax norms for the following vectors:\n",
        "$$v_1=\\begin{bmatrix} 1 \\\\ 2 \\\\ 3 \\end{bmatrix},\n",
        "v_2=\\begin{bmatrix} 3 \\\\ 3 \\\\ 1 \\\\ 3 \\end{bmatrix}$$\n",
        "- Calculate L3 norm for the vector\n",
        "$$v_3=\\begin{bmatrix} 2 \\\\  3 \\\\ 4 \\end{bmatrix}$$"
      ]
    },
    {
      "cell_type": "code",
      "execution_count": null,
      "id": "e5187437",
      "metadata": {
        "id": "e5187437"
      },
      "outputs": [],
      "source": [
        "v1 = np.array([[1], [2], [3]])\n",
        "v2 = np.array([[3], [3], [1], [3]])\n",
        "v3 = np.array([[2], [3], [4]])"
      ]
    },
    {
      "cell_type": "code",
      "execution_count": null,
      "id": "edd26cb7",
      "metadata": {
        "id": "edd26cb7",
        "colab": {
          "base_uri": "https://localhost:8080/"
        },
        "outputId": "f405f50a-9ddd-4f1a-81f5-0a6234ee984d"
      },
      "outputs": [
        {
          "output_type": "stream",
          "name": "stdout",
          "text": [
            "v1 norms:\n",
            "L1:  6.0\n",
            "L2:  3.7416573867739413\n",
            "Lmax:  3.0\n"
          ]
        }
      ],
      "source": [
        "v1_L1 = np.linalg.norm(v1, 1)\n",
        "v1_L2 = np.linalg.norm(v1, 2)\n",
        "v1_Lmax = np.linalg.norm(v1, np.inf)\n",
        "\n",
        "print(\"v1 norms:\")\n",
        "print(\"L1: \", v1_L1)\n",
        "print(\"L2: \",v1_L2)\n",
        "print(\"Lmax: \", v1_Lmax)"
      ]
    },
    {
      "cell_type": "code",
      "execution_count": null,
      "id": "5276012c",
      "metadata": {
        "id": "5276012c",
        "outputId": "89e5ab73-e0c8-4e77-a99a-16a76361fb7c",
        "colab": {
          "base_uri": "https://localhost:8080/"
        }
      },
      "outputs": [
        {
          "output_type": "stream",
          "name": "stdout",
          "text": [
            "v2 norms:\n",
            "L1:  10.0\n",
            "L2:  5.291502622129181\n",
            "Lmax:  3.0\n"
          ]
        }
      ],
      "source": [
        "v2_L1 = np.linalg.norm(v2, 1)\n",
        "v2_L2 = np.linalg.norm(v2, 2)\n",
        "v2_Lmax = np.linalg.norm(v2, np.inf)\n",
        "\n",
        "print(\"v2 norms:\")\n",
        "print(\"L1: \", v2_L1)\n",
        "print(\"L2: \", v2_L2)\n",
        "print(\"Lmax: \", v2_Lmax)"
      ]
    },
    {
      "cell_type": "code",
      "source": [
        "l3_v3 = np.linalg.norm(v3, 3)\n",
        "\n",
        "print(\"v3 norm: \")\n",
        "print(\"L3: \", l3_v3)"
      ],
      "metadata": {
        "colab": {
          "base_uri": "https://localhost:8080/",
          "height": 315
        },
        "id": "5whjHuJIdtDA",
        "outputId": "01d5a463-8862-4ecc-aa04-73fe04a7d96d"
      },
      "id": "5whjHuJIdtDA",
      "execution_count": null,
      "outputs": [
        {
          "output_type": "error",
          "ename": "ValueError",
          "evalue": "Invalid norm order for matrices.",
          "traceback": [
            "\u001b[0;31m---------------------------------------------------------------------------\u001b[0m",
            "\u001b[0;31mValueError\u001b[0m                                Traceback (most recent call last)",
            "\u001b[0;32m<ipython-input-33-81df5ccda249>\u001b[0m in \u001b[0;36m<cell line: 1>\u001b[0;34m()\u001b[0m\n\u001b[0;32m----> 1\u001b[0;31m \u001b[0ml3_v3\u001b[0m \u001b[0;34m=\u001b[0m \u001b[0mnp\u001b[0m\u001b[0;34m.\u001b[0m\u001b[0mlinalg\u001b[0m\u001b[0;34m.\u001b[0m\u001b[0mnorm\u001b[0m\u001b[0;34m(\u001b[0m\u001b[0mv3\u001b[0m\u001b[0;34m,\u001b[0m \u001b[0;36m3\u001b[0m\u001b[0;34m)\u001b[0m\u001b[0;34m\u001b[0m\u001b[0;34m\u001b[0m\u001b[0m\n\u001b[0m\u001b[1;32m      2\u001b[0m \u001b[0;34m\u001b[0m\u001b[0m\n\u001b[1;32m      3\u001b[0m \u001b[0mprint\u001b[0m\u001b[0;34m(\u001b[0m\u001b[0;34m\"v3 norm: \"\u001b[0m\u001b[0;34m)\u001b[0m\u001b[0;34m\u001b[0m\u001b[0;34m\u001b[0m\u001b[0m\n\u001b[1;32m      4\u001b[0m \u001b[0mprint\u001b[0m\u001b[0;34m(\u001b[0m\u001b[0;34m\"L3: \"\u001b[0m\u001b[0;34m,\u001b[0m \u001b[0ml3_v3\u001b[0m\u001b[0;34m)\u001b[0m\u001b[0;34m\u001b[0m\u001b[0;34m\u001b[0m\u001b[0m\n",
            "\u001b[0;32m/usr/local/lib/python3.10/dist-packages/numpy/linalg/linalg.py\u001b[0m in \u001b[0;36mnorm\u001b[0;34m(x, ord, axis, keepdims)\u001b[0m\n\u001b[1;32m   2623\u001b[0m             \u001b[0mret\u001b[0m \u001b[0;34m=\u001b[0m \u001b[0m_multi_svd_norm\u001b[0m\u001b[0;34m(\u001b[0m\u001b[0mx\u001b[0m\u001b[0;34m,\u001b[0m \u001b[0mrow_axis\u001b[0m\u001b[0;34m,\u001b[0m \u001b[0mcol_axis\u001b[0m\u001b[0;34m,\u001b[0m \u001b[0msum\u001b[0m\u001b[0;34m)\u001b[0m\u001b[0;34m\u001b[0m\u001b[0;34m\u001b[0m\u001b[0m\n\u001b[1;32m   2624\u001b[0m         \u001b[0;32melse\u001b[0m\u001b[0;34m:\u001b[0m\u001b[0;34m\u001b[0m\u001b[0;34m\u001b[0m\u001b[0m\n\u001b[0;32m-> 2625\u001b[0;31m             \u001b[0;32mraise\u001b[0m \u001b[0mValueError\u001b[0m\u001b[0;34m(\u001b[0m\u001b[0;34m\"Invalid norm order for matrices.\"\u001b[0m\u001b[0;34m)\u001b[0m\u001b[0;34m\u001b[0m\u001b[0;34m\u001b[0m\u001b[0m\n\u001b[0m\u001b[1;32m   2626\u001b[0m         \u001b[0;32mif\u001b[0m \u001b[0mkeepdims\u001b[0m\u001b[0;34m:\u001b[0m\u001b[0;34m\u001b[0m\u001b[0;34m\u001b[0m\u001b[0m\n\u001b[1;32m   2627\u001b[0m             \u001b[0mret_shape\u001b[0m \u001b[0;34m=\u001b[0m \u001b[0mlist\u001b[0m\u001b[0;34m(\u001b[0m\u001b[0mx\u001b[0m\u001b[0;34m.\u001b[0m\u001b[0mshape\u001b[0m\u001b[0;34m)\u001b[0m\u001b[0;34m\u001b[0m\u001b[0;34m\u001b[0m\u001b[0m\n",
            "\u001b[0;31mValueError\u001b[0m: Invalid norm order for matrices."
          ]
        }
      ]
    },
    {
      "cell_type": "code",
      "source": [
        "# L3 norm for v3 (manual calculation)\n",
        "l3_v3 = (np.sum(np.abs(v3)**3))**(1/3)\n",
        "\n",
        "print(\"v3 norm: \")\n",
        "print(\"L3: \", l3_v3)"
      ],
      "metadata": {
        "colab": {
          "base_uri": "https://localhost:8080/"
        },
        "id": "OW6_tJE2mBdR",
        "outputId": "0fcf11bb-c441-47c7-c970-d0e22265beb6"
      },
      "id": "OW6_tJE2mBdR",
      "execution_count": null,
      "outputs": [
        {
          "output_type": "stream",
          "name": "stdout",
          "text": [
            "v3 norm: \n",
            "L3:  4.626065009182741\n"
          ]
        }
      ]
    },
    {
      "cell_type": "markdown",
      "id": "4a09c2e3",
      "metadata": {
        "id": "4a09c2e3"
      },
      "source": [
        "### Calculate L1, L2, L3, and Lmax for the following vectors (Implement the equation using python code do not use np.linalg.norm):\n",
        "$$v_1=\\begin{bmatrix} 5 \\\\ 6 \\end{bmatrix},\n",
        "v_2=\\begin{bmatrix} 4 \\\\ 3 \\\\ 2 \\end{bmatrix},\n",
        "v_3=\\begin{bmatrix} 4 \\\\ 3 \\\\ 2 \\\\ 8 \\\\ 9 \\end{bmatrix}$$"
      ]
    },
    {
      "cell_type": "code",
      "source": [
        "v1 = np.array([[5], [6]])\n",
        "v2 = np.array([[4], [3], [2]])\n",
        "v3 = np.array([[4], [3], [2], [8], [9]])"
      ],
      "metadata": {
        "id": "ZWPETLeOmdTz"
      },
      "id": "ZWPETLeOmdTz",
      "execution_count": null,
      "outputs": []
    },
    {
      "cell_type": "code",
      "source": [
        "l1_v1 = np.sum(np.abs(v1))\n",
        "l2_v1 = np.sqrt(np.sum(v1**2))\n",
        "l3_v1 = (np.sum(np.abs(v1)**3))**(1/3)\n",
        "lmax_v1 = np.max(np.abs(v1))\n",
        "\n",
        "print(\"v1 norms:\")\n",
        "print(\"L1: \", l1_v1)\n",
        "print(\"L2: \", l2_v1)\n",
        "print(\"L3: \", l3_v1)\n",
        "print(\"Lmax: \", lmax_v1)"
      ],
      "metadata": {
        "colab": {
          "base_uri": "https://localhost:8080/"
        },
        "id": "wCHLoMqOm1wS",
        "outputId": "273f7111-c0e9-482f-c93e-c80517a5a0e5"
      },
      "id": "wCHLoMqOm1wS",
      "execution_count": null,
      "outputs": [
        {
          "output_type": "stream",
          "name": "stdout",
          "text": [
            "v1 norms:\n",
            "L1:  11\n",
            "L2:  7.810249675906654\n",
            "L3:  6.986368027818105\n",
            "Lmax:  6\n"
          ]
        }
      ]
    },
    {
      "cell_type": "code",
      "source": [
        "v2_L2 = np,sum(np.abs(v2))\n",
        "v2_L2 = np.sqrt(np.sum((v2**2)))\n",
        "v2_L3 = (np.sum(np.abs(v2**3)))**(1/3)\n",
        "v2_L2 = np.max(np.abs(v2))\n",
        "\n",
        "print(\"v2 norms:\")\n",
        "print(\"L1: \", v2_L1)\n",
        "print(\"L2: \", v2_L2)\n",
        "print(\"L3: \", v2_L3)\n",
        "print(\"Lmax: \", v2_Lmax)"
      ],
      "metadata": {
        "colab": {
          "base_uri": "https://localhost:8080/"
        },
        "id": "E8N5UkPrm1sx",
        "outputId": "5d77b56d-cf9a-4652-956a-2a9a53594619"
      },
      "id": "E8N5UkPrm1sx",
      "execution_count": null,
      "outputs": [
        {
          "output_type": "stream",
          "name": "stdout",
          "text": [
            "v2 norms:\n",
            "L1:  10.0\n",
            "L2:  4\n",
            "L3:  4.626065009182741\n",
            "Lmax:  3.0\n"
          ]
        }
      ]
    },
    {
      "cell_type": "code",
      "source": [
        "v3_L1 = np.sum(np.abs(v3))\n",
        "v3_L2 = np.sqrt(np.sum(v3**2))\n",
        "v3_L3 = (np.sum(np.abs(v3**3)))**(1/3)\n",
        "v3_Lmax = np.max(np.abs(v3))\n",
        "\n",
        "print(\"v3 norms:\")\n",
        "print(\"L1: \", v3_L1)\n",
        "print(\"L2: \", v3_L2)\n",
        "print(\"L3: \", v3_L3)\n",
        "print(\"Lmax: \", v3_Lmax)"
      ],
      "metadata": {
        "colab": {
          "base_uri": "https://localhost:8080/"
        },
        "id": "BqNVeHhKm1k9",
        "outputId": "e5b7999b-3011-4112-f5d6-1da5031debf1"
      },
      "id": "BqNVeHhKm1k9",
      "execution_count": null,
      "outputs": [
        {
          "output_type": "stream",
          "name": "stdout",
          "text": [
            "v3 norms:\n",
            "L1:  26\n",
            "L2:  13.19090595827292\n",
            "L3:  11.02473771449733\n",
            "Lmax:  9\n"
          ]
        }
      ]
    },
    {
      "cell_type": "code",
      "execution_count": null,
      "id": "f8024557",
      "metadata": {
        "id": "f8024557",
        "outputId": "5558d395-d415-4727-e453-b095b3fc7ca6"
      },
      "outputs": [
        {
          "name": "stdout",
          "output_type": "stream",
          "text": [
            "v1:\n",
            "L1: 11.0\n",
            "L2: 7.810249675906654\n",
            "L3: 6.986368027818105\n",
            "Lmax: 6.0\n",
            "\n",
            "v2:\n",
            "L1: 9.0\n",
            "L2: 5.385164807134504\n",
            "L3: 4.626065009182741\n",
            "Lmax: 4.0\n",
            "\n",
            "v3:\n",
            "L1: 26.0\n",
            "L2: 13.19090595827292\n",
            "L3: 11.02473771449733\n",
            "Lmax: 9.0\n"
          ]
        }
      ],
      "source": []
    },
    {
      "cell_type": "markdown",
      "id": "8a1a0092",
      "metadata": {
        "id": "8a1a0092"
      },
      "source": [
        "## Dot Product"
      ]
    },
    {
      "cell_type": "markdown",
      "id": "9560b90d",
      "metadata": {
        "id": "9560b90d"
      },
      "source": [
        "### Calculate the dot product of the following vectors:\n",
        "$$v_1=\\begin{bmatrix} 2 \\\\ -1 \\\\ 5 \\\\ 0 \\end{bmatrix} and\n",
        "v_2=\\begin{bmatrix} 4 \\\\ -3 \\\\ 1 \\\\ -1 \\end{bmatrix}$$\n",
        "### Calculate the dot product of the following vectors and explain the result:\n",
        "$$v_1=\\begin{bmatrix} 3 \\\\ 2 \\\\ -1 \\\\ 4 \\end{bmatrix} and\n",
        "v_2=\\begin{bmatrix} 1 \\\\ -1 \\\\ 1 \\\\ 0 \\end{bmatrix} $$"
      ]
    },
    {
      "cell_type": "code",
      "source": [
        "v1 = np.array([[2], [-1], [5], [0]])\n",
        "v2 = np.array([[4], [-3], [1], [-1]])\n",
        "\n",
        "product_v1v2 = v1.T.dot(v2)\n",
        "print(\"v1 . v2 = \", product_v1v2)"
      ],
      "metadata": {
        "colab": {
          "base_uri": "https://localhost:8080/"
        },
        "id": "1Jg6XqZhprfb",
        "outputId": "f50d7f17-2193-45e8-8c75-e96787e40c23"
      },
      "id": "1Jg6XqZhprfb",
      "execution_count": null,
      "outputs": [
        {
          "output_type": "stream",
          "name": "stdout",
          "text": [
            "v1 . v2 =  [[16]]\n"
          ]
        }
      ]
    },
    {
      "cell_type": "code",
      "execution_count": null,
      "id": "ce34a72e",
      "metadata": {
        "id": "ce34a72e",
        "outputId": "5544a125-9a33-448f-87f2-1f0293e3c504"
      },
      "outputs": [
        {
          "data": {
            "text/plain": [
              "16"
            ]
          },
          "execution_count": 11,
          "metadata": {},
          "output_type": "execute_result"
        }
      ],
      "source": []
    },
    {
      "cell_type": "code",
      "source": [
        "v1 = np.array([[3], [2], [-1], [4]])\n",
        "v2 = np.array([[1], [-1], [1], [0]])\n",
        "\n",
        "product_v1v2 = v1.T.dot(v2)\n",
        "print(\"v1 . v2 = \", product_v1v2)"
      ],
      "metadata": {
        "colab": {
          "base_uri": "https://localhost:8080/"
        },
        "id": "HT487vJUqMtf",
        "outputId": "6d137307-fc66-4f22-a2ee-7a6ec0f6c56a"
      },
      "id": "HT487vJUqMtf",
      "execution_count": null,
      "outputs": [
        {
          "output_type": "stream",
          "name": "stdout",
          "text": [
            "v1 . v2 =  [[0]]\n"
          ]
        }
      ]
    },
    {
      "cell_type": "code",
      "execution_count": null,
      "id": "80b5b407",
      "metadata": {
        "id": "80b5b407",
        "outputId": "948aba6f-236e-440a-c91b-3e4548a7620d"
      },
      "outputs": [
        {
          "data": {
            "text/plain": [
              "0"
            ]
          },
          "execution_count": 12,
          "metadata": {},
          "output_type": "execute_result"
        }
      ],
      "source": []
    },
    {
      "cell_type": "markdown",
      "id": "f56c9a66",
      "metadata": {
        "id": "f56c9a66"
      },
      "source": [
        "### Create two vectors in 2, 3, and 4 dimensions.\n",
        "### Perform vector addition, subtraction, and dot product of these vectors."
      ]
    },
    {
      "cell_type": "code",
      "execution_count": null,
      "id": "ee00f96e",
      "metadata": {
        "id": "ee00f96e"
      },
      "outputs": [],
      "source": []
    },
    {
      "cell_type": "markdown",
      "id": "2a742954",
      "metadata": {
        "id": "2a742954"
      },
      "source": [
        "## Matrix Operations"
      ]
    },
    {
      "cell_type": "markdown",
      "id": "7c857d78",
      "metadata": {
        "id": "7c857d78"
      },
      "source": [
        "### Matrix Multiplication AB then Transpose the result.\n",
        "$$A=\\begin{bmatrix} 3&1&0 \\\\ 2&1&2 \\end{bmatrix}, B=\\begin{bmatrix} 1&3 \\\\ 2&5 \\\\ -1&3 \\end{bmatrix}$$\n",
        "$$A=\\begin{bmatrix} 1&0&3 \\\\ 4&5&-1 \\\\ 0&0&2  \\end{bmatrix}, B=\\begin{bmatrix} 1\\\\2\\\\5 \\end{bmatrix}$$"
      ]
    },
    {
      "cell_type": "code",
      "source": [
        "A1 = np.array([[3, 1, 0], [2, 1, 2]])\n",
        "B1 = np.array([[1, 3], [2, 5], [-1, 3]])\n",
        "\n",
        "mult_ab = A1.dot(B1)\n",
        "print(\"AB = \\n\", mult_ab)\n",
        "\n",
        "ab_t = mult_ab.T\n",
        "print(\"AB^T = \\n\", ab_t)"
      ],
      "metadata": {
        "colab": {
          "base_uri": "https://localhost:8080/"
        },
        "id": "qrP9a_4kr8mb",
        "outputId": "28d25b01-6b5c-4ee6-ed9e-f3ac1402e6ef"
      },
      "id": "qrP9a_4kr8mb",
      "execution_count": null,
      "outputs": [
        {
          "output_type": "stream",
          "name": "stdout",
          "text": [
            "AB = \n",
            " [[ 5 14]\n",
            " [ 2 17]]\n",
            "AB^T = \n",
            " [[ 5  2]\n",
            " [14 17]]\n"
          ]
        }
      ]
    },
    {
      "cell_type": "code",
      "execution_count": null,
      "id": "9a6d4119",
      "metadata": {
        "id": "9a6d4119",
        "outputId": "bd875109-90fa-41cb-8f1b-d39ed3146215",
        "colab": {
          "base_uri": "https://localhost:8080/"
        }
      },
      "outputs": [
        {
          "output_type": "stream",
          "name": "stdout",
          "text": [
            "AB = \n",
            " [[16]\n",
            " [ 9]\n",
            " [10]]\n",
            "AB^T = \n",
            " [[16  9 10]]\n"
          ]
        }
      ],
      "source": [
        "A2 = np.array([[1, 0, 3], [4, 5, -1], [0, 0, 2]])\n",
        "B2 = np.array([[1], [2], [5]])\n",
        "\n",
        "mult_ab = A2.dot(B2)\n",
        "print(\"AB = \\n\", mult_ab)\n",
        "\n",
        "ab_t = mult_ab.T\n",
        "print(\"AB^T = \\n\", ab_t)"
      ]
    },
    {
      "cell_type": "markdown",
      "id": "a21c1d6f",
      "metadata": {
        "id": "a21c1d6f"
      },
      "source": [
        "## Different Types of Matrices\n",
        "### Create 3 by 3 and 4 by 4 identity matrices"
      ]
    },
    {
      "cell_type": "code",
      "source": [
        "identity_3 = np.identity(3)\n",
        "\n",
        "print(\"3 by 3 identity matrix: \\n\", identity_3)"
      ],
      "metadata": {
        "colab": {
          "base_uri": "https://localhost:8080/"
        },
        "id": "yA6ElUnJud8M",
        "outputId": "fe654fdf-a154-4374-99cb-1d477031945b"
      },
      "id": "yA6ElUnJud8M",
      "execution_count": null,
      "outputs": [
        {
          "output_type": "stream",
          "name": "stdout",
          "text": [
            "3 by 3 identity matrix: \n",
            " [[1. 0. 0.]\n",
            " [0. 1. 0.]\n",
            " [0. 0. 1.]]\n"
          ]
        }
      ]
    },
    {
      "cell_type": "code",
      "execution_count": null,
      "id": "b8174f59",
      "metadata": {
        "id": "b8174f59",
        "outputId": "7340dcf3-3bd4-402d-e47a-04d014ed4105"
      },
      "outputs": [
        {
          "data": {
            "text/plain": [
              "array([[1., 0., 0.],\n",
              "       [0., 1., 0.],\n",
              "       [0., 0., 1.]])"
            ]
          },
          "execution_count": 5,
          "metadata": {},
          "output_type": "execute_result"
        }
      ],
      "source": []
    },
    {
      "cell_type": "code",
      "source": [
        "identity_4 = np.identity(4)\n",
        "\n",
        "print(\"4 by 4 identity matrix: \\n\", identity_4)"
      ],
      "metadata": {
        "colab": {
          "base_uri": "https://localhost:8080/"
        },
        "id": "4rgyLAcZui8O",
        "outputId": "a436ad6d-1f92-424f-d474-0a59d5cbcaef"
      },
      "id": "4rgyLAcZui8O",
      "execution_count": null,
      "outputs": [
        {
          "output_type": "stream",
          "name": "stdout",
          "text": [
            "4 by 4 identity matrix: \n",
            " [[1. 0. 0. 0.]\n",
            " [0. 1. 0. 0.]\n",
            " [0. 0. 1. 0.]\n",
            " [0. 0. 0. 1.]]\n"
          ]
        }
      ]
    },
    {
      "cell_type": "code",
      "execution_count": null,
      "id": "feabc567",
      "metadata": {
        "scrolled": true,
        "id": "feabc567",
        "outputId": "906b5b62-b3b5-4b84-bc23-42bd29f90cc2"
      },
      "outputs": [
        {
          "data": {
            "text/plain": [
              "array([[1., 0., 0., 0.],\n",
              "       [0., 1., 0., 0.],\n",
              "       [0., 0., 1., 0.],\n",
              "       [0., 0., 0., 1.]])"
            ]
          },
          "execution_count": 6,
          "metadata": {},
          "output_type": "execute_result"
        }
      ],
      "source": []
    },
    {
      "cell_type": "markdown",
      "id": "3cd908c2",
      "metadata": {
        "id": "3cd908c2"
      },
      "source": [
        "### Create a diagonal matrix contains [2,4,5,11] numbers in its diagonal."
      ]
    },
    {
      "cell_type": "code",
      "source": [
        "diagonal = np.diag([2, 4, 5, 11])\n",
        "\n",
        "print(\"Diagonal matrix: \\n\", diagonal)"
      ],
      "metadata": {
        "colab": {
          "base_uri": "https://localhost:8080/"
        },
        "id": "Vu_flOqruyal",
        "outputId": "256c1807-34c1-4f4e-f13e-0244339b5f03"
      },
      "id": "Vu_flOqruyal",
      "execution_count": null,
      "outputs": [
        {
          "output_type": "stream",
          "name": "stdout",
          "text": [
            "Diagonal matrix: \n",
            " [[ 2  0  0  0]\n",
            " [ 0  4  0  0]\n",
            " [ 0  0  5  0]\n",
            " [ 0  0  0 11]]\n"
          ]
        }
      ]
    },
    {
      "cell_type": "code",
      "execution_count": null,
      "id": "c622a921",
      "metadata": {
        "id": "c622a921",
        "outputId": "20071330-83c9-4447-b39c-fd893cff5b35"
      },
      "outputs": [
        {
          "data": {
            "text/plain": [
              "array([[ 2,  0,  0,  0],\n",
              "       [ 0,  4,  0,  0],\n",
              "       [ 0,  0,  5,  0],\n",
              "       [ 0,  0,  0, 11]])"
            ]
          },
          "execution_count": 37,
          "metadata": {},
          "output_type": "execute_result"
        }
      ],
      "source": []
    },
    {
      "cell_type": "markdown",
      "id": "7b39f0ce",
      "metadata": {
        "id": "7b39f0ce"
      },
      "source": [
        "### Create a 5 by 5 scalar matrix of number 7"
      ]
    },
    {
      "cell_type": "code",
      "source": [
        "identity_5 = np.identity((5))\n",
        "\n",
        "identity_5 = identity_5 * 7\n",
        "\n",
        "print(\"5 by 5 identity matrix: \\n\", identity_5)"
      ],
      "metadata": {
        "colab": {
          "base_uri": "https://localhost:8080/"
        },
        "id": "2RlOrKehu2ms",
        "outputId": "81969754-68f2-48f0-8dc7-d11455831d68"
      },
      "id": "2RlOrKehu2ms",
      "execution_count": null,
      "outputs": [
        {
          "output_type": "stream",
          "name": "stdout",
          "text": [
            "5 by 5 identity matrix: \n",
            " [[7. 0. 0. 0. 0.]\n",
            " [0. 7. 0. 0. 0.]\n",
            " [0. 0. 7. 0. 0.]\n",
            " [0. 0. 0. 7. 0.]\n",
            " [0. 0. 0. 0. 7.]]\n"
          ]
        }
      ]
    },
    {
      "cell_type": "code",
      "execution_count": null,
      "id": "3bc1166e",
      "metadata": {
        "id": "3bc1166e",
        "outputId": "f3d2b61b-5a8c-4cb6-f6b5-2bd688ccfc08"
      },
      "outputs": [
        {
          "data": {
            "text/plain": [
              "array([[7., 0., 0., 0., 0.],\n",
              "       [0., 7., 0., 0., 0.],\n",
              "       [0., 0., 7., 0., 0.],\n",
              "       [0., 0., 0., 7., 0.],\n",
              "       [0., 0., 0., 0., 7.]])"
            ]
          },
          "execution_count": 38,
          "metadata": {},
          "output_type": "execute_result"
        }
      ],
      "source": []
    },
    {
      "cell_type": "markdown",
      "id": "71946845",
      "metadata": {
        "id": "71946845"
      },
      "source": [
        "### Using SymPy get the rref of the following matrices"
      ]
    },
    {
      "cell_type": "code",
      "execution_count": null,
      "id": "3890b9a0",
      "metadata": {
        "scrolled": true,
        "id": "3890b9a0",
        "outputId": "ee67c3a8-3f67-4ac8-a4c0-6df709f787c6",
        "colab": {
          "base_uri": "https://localhost:8080/"
        }
      },
      "outputs": [
        {
          "output_type": "stream",
          "name": "stdout",
          "text": [
            "RREF of the matrix:\n",
            "Matrix([[1, 0, 1.00000000000000, 3.00000000000000], [0.0, 1, 0.666666666666667, 0.333333333333333], [0.0, 0.0, 0.0, 0.0]])\n",
            "\n",
            "Pivot columns:\n",
            "(0, 1)\n"
          ]
        }
      ],
      "source": [
        "from sympy import Matrix\n",
        "\n",
        "A_1 = np.array([[1, 0, 1, 3],[0, 1, 2/3, 1/3],[0, 0, 0, 0]])\n",
        "\n",
        "A_sympy = Matrix(A_1)\n",
        "rref_np, pivot_columns_np = A_sympy.rref()\n",
        "print(\"RREF of the matrix:\")\n",
        "print(rref_np)\n",
        "\n",
        "print(\"\\nPivot columns:\")\n",
        "print(pivot_columns_np)"
      ]
    },
    {
      "cell_type": "code",
      "execution_count": null,
      "id": "d83b2913",
      "metadata": {
        "id": "d83b2913",
        "outputId": "41ad39d5-2993-433b-c5ed-f2f94916b209"
      },
      "outputs": [
        {
          "data": {
            "text/plain": [
              "(Matrix([\n",
              " [1, 0,   1,   3],\n",
              " [0, 1, 2/3, 1/3],\n",
              " [0, 0,   0,   0]]),\n",
              " (0, 1))"
            ]
          },
          "execution_count": 42,
          "metadata": {},
          "output_type": "execute_result"
        }
      ],
      "source": []
    },
    {
      "cell_type": "code",
      "execution_count": null,
      "id": "d272eef4",
      "metadata": {
        "id": "d272eef4",
        "outputId": "ac8e7300-05e9-41a7-f081-916f6bcaa3e8",
        "colab": {
          "base_uri": "https://localhost:8080/"
        }
      },
      "outputs": [
        {
          "output_type": "stream",
          "name": "stdout",
          "text": [
            "RREF of the matrix (NumPy):\n",
            "Matrix([[1, 0, 0], [0, 1, 0], [0, 0, 1], [0, 0, 0]])\n",
            "\n",
            "Pivot columns (NumPy indices):\n",
            "(0, 1, 2)\n"
          ]
        }
      ],
      "source": [
        "A2 = np.array([[1, 0, 0],[0, 1, 0],[0,0,1],[0,1,2]])\n",
        "\n",
        "A2_sympy = Matrix(A2)\n",
        "\n",
        "rref2_np, pivot2_columns_np = A2_sympy.rref()\n",
        "print(\"RREF of the matrix (NumPy):\")\n",
        "print(rref2_np)\n",
        "\n",
        "print(\"\\nPivot columns (NumPy indices):\")\n",
        "print(pivot2_columns_np)"
      ]
    },
    {
      "cell_type": "code",
      "execution_count": null,
      "id": "c05a3272",
      "metadata": {
        "id": "c05a3272",
        "outputId": "b08c6cd0-2cff-48ed-cefb-5fc93f591053"
      },
      "outputs": [
        {
          "data": {
            "text/plain": [
              "(Matrix([\n",
              " [1, 0, 0],\n",
              " [0, 1, 0],\n",
              " [0, 0, 1]]),\n",
              " (0, 1, 2))"
            ]
          },
          "execution_count": 44,
          "metadata": {},
          "output_type": "execute_result"
        }
      ],
      "source": []
    },
    {
      "cell_type": "markdown",
      "id": "bbeff11d",
      "metadata": {
        "id": "bbeff11d"
      },
      "source": [
        "### Find the solution of the following system of linear equation using SymPy Matrix rref()\n",
        "#### Write down the solution as a python note e.g., x=1, y=4, and z=10"
      ]
    },
    {
      "cell_type": "markdown",
      "id": "61dcc75c",
      "metadata": {
        "id": "61dcc75c"
      },
      "source": [
        "1. $$x+y+z=6$$  $$x+2y+2z=9$$  $$x+2y+3z=10$$\n",
        "$$$$\n",
        "2. $$x+2y+3z=9$$  $$2x-y+z=8$$  $$3x-z=3$$"
      ]
    },
    {
      "cell_type": "code",
      "source": [
        "import sympy as sp\n",
        "\n",
        "x, y, z = sp.symbols('x y z')\n",
        "\n",
        "A1 = sp.Matrix([\n",
        "    [1, 1, 1, 6],\n",
        "    [1, 2, 2, 9],\n",
        "    [1, 2, 3, 10]\n",
        "])\n",
        "\n",
        "rref_matrix, pivot_columns = A1.rref()\n",
        "\n",
        "rref_matrix"
      ],
      "metadata": {
        "colab": {
          "base_uri": "https://localhost:8080/",
          "height": 78
        },
        "id": "anrczfg9BLoQ",
        "outputId": "54c56d56-72a9-4466-b461-39ed94191fbc"
      },
      "id": "anrczfg9BLoQ",
      "execution_count": null,
      "outputs": [
        {
          "output_type": "execute_result",
          "data": {
            "text/plain": [
              "Matrix([\n",
              "[1, 0, 0, 3],\n",
              "[0, 1, 0, 2],\n",
              "[0, 0, 1, 1]])"
            ],
            "text/latex": "$\\displaystyle \\left[\\begin{matrix}1 & 0 & 0 & 3\\\\0 & 1 & 0 & 2\\\\0 & 0 & 1 & 1\\end{matrix}\\right]$"
          },
          "metadata": {},
          "execution_count": 8
        }
      ]
    },
    {
      "cell_type": "code",
      "execution_count": null,
      "id": "92c73f88",
      "metadata": {
        "id": "92c73f88",
        "outputId": "e48ab15a-dab9-47d2-eebb-c1856ba08278"
      },
      "outputs": [
        {
          "data": {
            "text/plain": [
              "(Matrix([\n",
              " [1, 0, 0, 3],\n",
              " [0, 1, 0, 2],\n",
              " [0, 0, 1, 1]]),\n",
              " (0, 1, 2))"
            ]
          },
          "execution_count": 30,
          "metadata": {},
          "output_type": "execute_result"
        }
      ],
      "source": []
    },
    {
      "cell_type": "code",
      "execution_count": null,
      "id": "5b44f38e",
      "metadata": {
        "id": "5b44f38e",
        "outputId": "0fe16ddb-e9ff-41ef-f1c3-e5db6916596c",
        "colab": {
          "base_uri": "https://localhost:8080/",
          "height": 78
        }
      },
      "outputs": [
        {
          "output_type": "execute_result",
          "data": {
            "text/plain": [
              "Matrix([\n",
              "[1, 0, 0,  2],\n",
              "[0, 1, 0, -1],\n",
              "[0, 0, 1,  3]])"
            ],
            "text/latex": "$\\displaystyle \\left[\\begin{matrix}1 & 0 & 0 & 2\\\\0 & 1 & 0 & -1\\\\0 & 0 & 1 & 3\\end{matrix}\\right]$"
          },
          "metadata": {},
          "execution_count": 68
        }
      ],
      "source": [
        "x, y, z = sp.symbols('x y z')\n",
        "\n",
        "A2 = sp.Matrix([\n",
        "    [1, 2, 3, 9],\n",
        "    [2, -1, 1, 8],\n",
        "    [3, 0, -1, 3]\n",
        "])\n",
        "\n",
        "rref_matrix, pivot_columns = A2.rref()\n",
        "\n",
        "rref_matrix"
      ]
    },
    {
      "cell_type": "code",
      "execution_count": null,
      "id": "9360b021",
      "metadata": {
        "id": "9360b021",
        "outputId": "7edfba29-6869-40da-8576-b76f78c9d221"
      },
      "outputs": [
        {
          "data": {
            "text/plain": [
              "(Matrix([\n",
              " [1, 0, 0,  2],\n",
              " [0, 1, 0, -1],\n",
              " [0, 0, 1,  3]]),\n",
              " (0, 1, 2))"
            ]
          },
          "execution_count": 32,
          "metadata": {},
          "output_type": "execute_result"
        }
      ],
      "source": []
    },
    {
      "cell_type": "markdown",
      "id": "78429ec9",
      "metadata": {
        "id": "78429ec9"
      },
      "source": [
        "### Find the solution of the following system of linear equation using SymPy Matrix rref()\n",
        "#### Write down the solution as a python note e.g., x=1, y=4, and z=10"
      ]
    },
    {
      "cell_type": "markdown",
      "id": "48df16ae",
      "metadata": {
        "id": "48df16ae"
      },
      "source": [
        "1. $$x-2y=1$$ $$3x-6y=11 $$\n",
        "$$$$\n",
        "2. $$x-2y=1$$ $$3x-6y=3 $$\n",
        "$$$$\n",
        "3. $$x+2y+3z=6$$  $$2x+5y+2z=4$$  $$6x-3y+z=2$$\n",
        "$$$$\n",
        "4. $$2x+4y-2z=2$$  $$4x+9y-3z=8$$  $$-2x-3y+7z=10$$"
      ]
    },
    {
      "cell_type": "code",
      "execution_count": null,
      "id": "43cb6368",
      "metadata": {
        "id": "43cb6368",
        "outputId": "d43301f4-22f7-46d9-e621-383510dac611",
        "colab": {
          "base_uri": "https://localhost:8080/",
          "height": 58
        }
      },
      "outputs": [
        {
          "output_type": "execute_result",
          "data": {
            "text/plain": [
              "Matrix([\n",
              "[1, -2, 0],\n",
              "[0,  0, 1]])"
            ],
            "text/latex": "$\\displaystyle \\left[\\begin{matrix}1 & -2 & 0\\\\0 & 0 & 1\\end{matrix}\\right]$"
          },
          "metadata": {},
          "execution_count": 69
        }
      ],
      "source": [
        "x, y, z = sp.symbols('x y z')\n",
        "\n",
        "A1 = sp.Matrix([\n",
        "    [1, -2, 1],\n",
        "    [3, -6, 11]\n",
        "])\n",
        "\n",
        "rref_matrix, pivot_columns = A1.rref()\n",
        "\n",
        "rref_matrix"
      ]
    },
    {
      "cell_type": "code",
      "source": [
        "print(\"Pivot columns: \\n\", pivot_columns)"
      ],
      "metadata": {
        "colab": {
          "base_uri": "https://localhost:8080/"
        },
        "id": "FfLg1b_Df5R4",
        "outputId": "a729f0ba-bd12-4b0f-fe1d-7a6cc8af0e0a"
      },
      "id": "FfLg1b_Df5R4",
      "execution_count": null,
      "outputs": [
        {
          "output_type": "stream",
          "name": "stdout",
          "text": [
            "\n",
            "Pivot columns:\n",
            "(0, 2)\n"
          ]
        }
      ]
    },
    {
      "cell_type": "code",
      "execution_count": null,
      "id": "d1af10bc",
      "metadata": {
        "id": "d1af10bc",
        "outputId": "74eefb79-152d-4067-f7c7-0f48d5709bbb"
      },
      "outputs": [
        {
          "data": {
            "text/plain": [
              "(Matrix([\n",
              " [1, -2, 0],\n",
              " [0,  0, 1]]),\n",
              " (0, 2))"
            ]
          },
          "execution_count": 7,
          "metadata": {},
          "output_type": "execute_result"
        }
      ],
      "source": []
    },
    {
      "cell_type": "code",
      "execution_count": null,
      "id": "c279c860",
      "metadata": {
        "id": "c279c860",
        "outputId": "62f8cdfc-0297-406e-c663-309891a0ac39",
        "colab": {
          "base_uri": "https://localhost:8080/",
          "height": 58
        }
      },
      "outputs": [
        {
          "output_type": "execute_result",
          "data": {
            "text/plain": [
              "Matrix([\n",
              "[1, -2, 1],\n",
              "[0,  0, 0]])"
            ],
            "text/latex": "$\\displaystyle \\left[\\begin{matrix}1 & -2 & 1\\\\0 & 0 & 0\\end{matrix}\\right]$"
          },
          "metadata": {},
          "execution_count": 12
        }
      ],
      "source": [
        "x, y, z = sp.symbols('x y z')\n",
        "\n",
        "A2 = sp.Matrix([\n",
        "    [1, -2, 1],\n",
        "    [3, -6, 3]\n",
        "])\n",
        "\n",
        "rref_matrix, pivot_columns = A2.rref()\n",
        "\n",
        "rref_matrix"
      ]
    },
    {
      "cell_type": "code",
      "execution_count": null,
      "id": "24e71492",
      "metadata": {
        "id": "24e71492",
        "outputId": "43717de0-5435-4300-c618-873bac8231f4",
        "colab": {
          "base_uri": "https://localhost:8080/"
        }
      },
      "outputs": [
        {
          "output_type": "execute_result",
          "data": {
            "text/plain": [
              "(0,)"
            ]
          },
          "metadata": {},
          "execution_count": 13
        }
      ],
      "source": [
        "pivot_columns"
      ]
    },
    {
      "cell_type": "code",
      "execution_count": null,
      "metadata": {
        "outputId": "63d82ce3-f710-4135-d1a5-b1ffbfbe7f0e",
        "id": "9O1xlAxMgzZU"
      },
      "outputs": [
        {
          "data": {
            "text/plain": [
              "(Matrix([\n",
              " [1, -2, 1],\n",
              " [0,  0, 0]]),\n",
              " (0,))"
            ]
          },
          "execution_count": 36,
          "metadata": {},
          "output_type": "execute_result"
        }
      ],
      "source": [],
      "id": "9O1xlAxMgzZU"
    },
    {
      "cell_type": "code",
      "execution_count": null,
      "id": "0bd4ec36",
      "metadata": {
        "id": "0bd4ec36",
        "outputId": "f7a13002-a5c5-4939-82c5-f2d8cd259637",
        "colab": {
          "base_uri": "https://localhost:8080/",
          "height": 78
        }
      },
      "outputs": [
        {
          "output_type": "execute_result",
          "data": {
            "text/plain": [
              "Matrix([\n",
              "[1, 0, 0, 0],\n",
              "[0, 1, 0, 0],\n",
              "[0, 0, 1, 2]])"
            ],
            "text/latex": "$\\displaystyle \\left[\\begin{matrix}1 & 0 & 0 & 0\\\\0 & 1 & 0 & 0\\\\0 & 0 & 1 & 2\\end{matrix}\\right]$"
          },
          "metadata": {},
          "execution_count": 14
        }
      ],
      "source": [
        "X, Y, Z = sp.symbols('X Y Z')\n",
        "\n",
        "A3 = sp.Matrix([\n",
        "    [1, 2, 3, 6],\n",
        "    [2, 5, 2, 4],\n",
        "    [6, -3, 1, 2]\n",
        "])\n",
        "\n",
        "rref_matrix, pivot_columns = A3.rref()\n",
        "\n",
        "rref_matrix"
      ]
    },
    {
      "cell_type": "code",
      "source": [
        "pivot_columns"
      ],
      "metadata": {
        "colab": {
          "base_uri": "https://localhost:8080/"
        },
        "id": "kICus9hWg3b7",
        "outputId": "01431d36-7d9c-4034-db90-45ebecdb8b88"
      },
      "id": "kICus9hWg3b7",
      "execution_count": null,
      "outputs": [
        {
          "output_type": "execute_result",
          "data": {
            "text/plain": [
              "(0, 1, 2)"
            ]
          },
          "metadata": {},
          "execution_count": 15
        }
      ]
    },
    {
      "cell_type": "code",
      "execution_count": null,
      "id": "cda3bcc0",
      "metadata": {
        "id": "cda3bcc0",
        "outputId": "2817b71a-0ba5-472a-9e12-37e4460bc9fc"
      },
      "outputs": [
        {
          "data": {
            "text/plain": [
              "(Matrix([\n",
              " [1, 0, 0, 0],\n",
              " [0, 1, 0, 0],\n",
              " [0, 0, 1, 2]]),\n",
              " (0, 1, 2))"
            ]
          },
          "execution_count": 38,
          "metadata": {},
          "output_type": "execute_result"
        }
      ],
      "source": []
    },
    {
      "cell_type": "code",
      "execution_count": null,
      "id": "e996abd6",
      "metadata": {
        "id": "e996abd6",
        "outputId": "e5a9de27-fd71-4836-8340-9beeb2af6a2b",
        "colab": {
          "base_uri": "https://localhost:8080/",
          "height": 78
        }
      },
      "outputs": [
        {
          "output_type": "execute_result",
          "data": {
            "text/plain": [
              "Matrix([\n",
              "[1, 0, 0, -1],\n",
              "[0, 1, 0,  2],\n",
              "[0, 0, 1,  2]])"
            ],
            "text/latex": "$\\displaystyle \\left[\\begin{matrix}1 & 0 & 0 & -1\\\\0 & 1 & 0 & 2\\\\0 & 0 & 1 & 2\\end{matrix}\\right]$"
          },
          "metadata": {},
          "execution_count": 16
        }
      ],
      "source": [
        "X, Y, Z = sp.symbols('X Y Z')\n",
        "\n",
        "A4 = sp.Matrix([\n",
        "    [2, 4, -2, 2],\n",
        "    [4, 9, -3, 8],\n",
        "    [-2, -3, 7, 10]\n",
        "])\n",
        "\n",
        "rref_matrix, pivot_columns = A4.rref()\n",
        "\n",
        "rref_matrix"
      ]
    },
    {
      "cell_type": "code",
      "source": [
        "pivot_columns"
      ],
      "metadata": {
        "colab": {
          "base_uri": "https://localhost:8080/"
        },
        "id": "UYjniovOg7h6",
        "outputId": "4514b283-7b13-4b21-ae04-5d851749057c"
      },
      "id": "UYjniovOg7h6",
      "execution_count": null,
      "outputs": [
        {
          "output_type": "execute_result",
          "data": {
            "text/plain": [
              "(0, 1, 2)"
            ]
          },
          "metadata": {},
          "execution_count": 17
        }
      ]
    },
    {
      "cell_type": "code",
      "execution_count": null,
      "id": "dbe22672",
      "metadata": {
        "id": "dbe22672",
        "outputId": "2b8795aa-087d-49eb-f14c-5a5008aae416"
      },
      "outputs": [
        {
          "data": {
            "text/plain": [
              "(Matrix([\n",
              " [1, 0, 0, -1],\n",
              " [0, 1, 0,  2],\n",
              " [0, 0, 1,  2]]),\n",
              " (0, 1, 2))"
            ]
          },
          "execution_count": 40,
          "metadata": {},
          "output_type": "execute_result"
        }
      ],
      "source": []
    },
    {
      "cell_type": "markdown",
      "id": "de02cf4a",
      "metadata": {
        "id": "de02cf4a"
      },
      "source": [
        "# Quiz:\n",
        "![image.png](data:image/png;base64,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)"
      ]
    },
    {
      "cell_type": "markdown",
      "source": [
        "1. Find  𝑢+𝑣\n",
        "\n",
        "     \n"
      ],
      "metadata": {
        "id": "rCuTE3UKKVh-"
      },
      "id": "rCuTE3UKKVh-"
    },
    {
      "cell_type": "code",
      "source": [
        "import numpy as np\n",
        "\n",
        "u = np.array([3, 2])\n",
        "v = np.array([-1, -2])\n",
        "\n",
        "sum_uv = u + v\n",
        "print(sum_uv)"
      ],
      "metadata": {
        "colab": {
          "base_uri": "https://localhost:8080/"
        },
        "id": "eZ9b49vZKVQb",
        "outputId": "b11b9808-abd8-44b1-89d5-82c7213bddcc"
      },
      "id": "eZ9b49vZKVQb",
      "execution_count": null,
      "outputs": [
        {
          "output_type": "stream",
          "name": "stdout",
          "text": [
            "[2 0]\n"
          ]
        }
      ]
    },
    {
      "cell_type": "markdown",
      "source": [
        "2. Find\n",
        "∥\n",
        "𝑢\n",
        "∥\n",
        ",\n",
        "∥\n",
        "𝑣\n",
        "∥\n",
        ",\n",
        "and\n",
        "∥\n",
        "𝑢\n",
        "+\n",
        "𝑣\n",
        "∥\n",
        "∥u∥,∥v∥,and ∥u+v∥ (L1, L2, L3, Lmax Norms)"
      ],
      "metadata": {
        "id": "hcTIIkQzNCn9"
      },
      "id": "hcTIIkQzNCn9"
    },
    {
      "cell_type": "code",
      "source": [
        "abs_u = np.abs(u)\n",
        "abs_v = np.abs(v)\n",
        "\n",
        "abs_sum_uv = np.abs(sum_uv)\n",
        "\n",
        "print(\"||u|| =  \", abs_u)\n",
        "print(\"||v|| =  \", abs_v)\n",
        "print(\"||u+v|| =  \", abs_sum_uv)"
      ],
      "metadata": {
        "colab": {
          "base_uri": "https://localhost:8080/"
        },
        "id": "Ka9f5avFKTRr",
        "outputId": "d23d7d28-dc54-4b02-d936-75a4b1a19214"
      },
      "id": "Ka9f5avFKTRr",
      "execution_count": null,
      "outputs": [
        {
          "output_type": "stream",
          "name": "stdout",
          "text": [
            "||u|| =   [3 2]\n",
            "||v|| =   [1 2]\n",
            "||u+v|| =   [2 0]\n"
          ]
        }
      ]
    },
    {
      "cell_type": "code",
      "source": [
        "u_L1_norm = np.sum(np.abs(u))\n",
        "u_L2_norm = np.sqrt(np.sum(u**2))\n",
        "u_L3_norm = (np.sum(np.abs(u)**3))**(1/3)\n",
        "u_Lmax_norm = np.max(np.abs(u))\n",
        "\n",
        "print(\"L1 norm of u:\", u_L1_norm)\n",
        "print(\"L2 norm of u:\", u_L2_norm)\n",
        "print(\"L3 norm of u:\", u_L3_norm)\n",
        "print(\"Lmax norm of u:\", u_Lmax_norm)"
      ],
      "metadata": {
        "colab": {
          "base_uri": "https://localhost:8080/"
        },
        "id": "834_TVNmKTNe",
        "outputId": "6996cde5-6cff-42bb-e129-523485d64181"
      },
      "id": "834_TVNmKTNe",
      "execution_count": null,
      "outputs": [
        {
          "output_type": "stream",
          "name": "stdout",
          "text": [
            "L1 norm of u: 5\n",
            "L2 norm of u: 3.605551275463989\n",
            "L3 norm of u: 3.2710663101885897\n",
            "Lmax norm of u: 3\n"
          ]
        }
      ]
    },
    {
      "cell_type": "code",
      "source": [
        "v_L1_norm = np.sum(np.abs(v))\n",
        "v_L2_norm = np.sqrt(np.sum(v**2))\n",
        "v_L3_norm = (np.sum(np.abs(v)**3))**(1/3)\n",
        "v_Lmax_norm = np.max(np.abs(v))\n",
        "\n",
        "print(\"L1 norm of v:\", v_L1_norm)\n",
        "print(\"L2 norm of v:\", v_L2_norm)\n",
        "print(\"L3 norm of v:\", v_L3_norm)\n",
        "print(\"Lmax norm of v:\", v_Lmax_norm)"
      ],
      "metadata": {
        "colab": {
          "base_uri": "https://localhost:8080/"
        },
        "id": "Ey9Op7fkKTLC",
        "outputId": "7dc8b46d-565f-4dee-9401-7d96cdc53673"
      },
      "id": "Ey9Op7fkKTLC",
      "execution_count": null,
      "outputs": [
        {
          "output_type": "stream",
          "name": "stdout",
          "text": [
            "L1 norm of v: 3\n",
            "L2 norm of v: 2.23606797749979\n",
            "L3 norm of v: 2.080083823051904\n",
            "Lmax norm of v: 2\n"
          ]
        }
      ]
    },
    {
      "cell_type": "code",
      "source": [
        "sum_uv_L1_norm = np.sum(np.abs(sum_uv))\n",
        "sum_uv_L2_norm = np.sqrt(np.sum(sum_uv**2))\n",
        "sum_uv_L3_norm = (np.sum(np.abs(sum_uv)**3))**(1/3)\n",
        "sum_uv_Lmax_norm = np.max(np.abs(sum_uv))\n",
        "\n",
        "print(\"L1 norm of u+v:\", sum_uv_L1_norm)\n",
        "print(\"L2 norm of u+v:\", sum_uv_L2_norm)\n",
        "print(\"L3 norm of u+v:\", sum_uv_L3_norm)\n",
        "print(\"Lmax norm of u+v:\", sum_uv_Lmax_norm)"
      ],
      "metadata": {
        "colab": {
          "base_uri": "https://localhost:8080/"
        },
        "id": "gOzW2n7dO6rX",
        "outputId": "a2223447-6f3c-4ff9-8394-fe448795439d"
      },
      "id": "gOzW2n7dO6rX",
      "execution_count": null,
      "outputs": [
        {
          "output_type": "stream",
          "name": "stdout",
          "text": [
            "L1 norm of u+v: 2\n",
            "L2 norm of u+v: 2.0\n",
            "L3 norm of u+v: 2.0\n",
            "Lmax norm of u+v: 2\n"
          ]
        }
      ]
    },
    {
      "cell_type": "markdown",
      "source": [
        "3. Calculate\n",
        "𝑢\n",
        "⋅\n",
        "𝑣\n",
        "u⋅v (Dot Product)"
      ],
      "metadata": {
        "id": "M80WGa2_PGkl"
      },
      "id": "M80WGa2_PGkl"
    },
    {
      "cell_type": "code",
      "source": [
        "calc = np.dot(u, v)\n",
        "print(calc)"
      ],
      "metadata": {
        "colab": {
          "base_uri": "https://localhost:8080/"
        },
        "id": "bnYAuOGZKTG6",
        "outputId": "cb17f9e7-a501-4b3e-bf7b-6e4c886f1745"
      },
      "id": "bnYAuOGZKTG6",
      "execution_count": null,
      "outputs": [
        {
          "output_type": "stream",
          "name": "stdout",
          "text": [
            "-7\n"
          ]
        }
      ]
    },
    {
      "cell_type": "markdown",
      "source": [
        "4. Represent the system of linear equations as a matrix-vector operation\n",
        "The system:\n",
        "\n",
        "−\n",
        "3\n",
        "𝑥\n",
        "+\n",
        "2\n",
        "𝑦\n",
        "−\n",
        "5\n",
        "𝑧\n",
        "=\n",
        "14\n",
        "2\n",
        "𝑥\n",
        "−\n",
        "3\n",
        "𝑦\n",
        "+\n",
        "4\n",
        "𝑧\n",
        "=\n",
        "10\n",
        "𝑥\n",
        "+\n",
        "𝑦\n",
        "+\n",
        "𝑧\n",
        "=\n",
        "14\n",
        "−3x+2y−5z\n",
        "2x−3y+4z\n",
        "x+y+z\n",
        "​\n",
        "  \n",
        "=14\n",
        "=10\n",
        "=14\n",
        "​\n"
      ],
      "metadata": {
        "id": "BnsXxsFJSniV"
      },
      "id": "BnsXxsFJSniV"
    },
    {
      "cell_type": "code",
      "source": [
        "a = np.array([[-3, 2, -5],[2, -3, 4],[1, 1, 1]])\n",
        "b = np.array([14, 10, 14])\n",
        "\n",
        "print(\"Matrix A: \\n\", a)\n",
        "\n",
        "print(\"\\nVector B: \\n\", b)\n",
        "print(b)"
      ],
      "metadata": {
        "colab": {
          "base_uri": "https://localhost:8080/"
        },
        "id": "pUxvme5IKTEl",
        "outputId": "f9ef0e9f-b759-4794-8d60-7222cf461ee2"
      },
      "id": "pUxvme5IKTEl",
      "execution_count": null,
      "outputs": [
        {
          "output_type": "stream",
          "name": "stdout",
          "text": [
            "Matrix A: \n",
            " [[-3  2 -5]\n",
            " [ 2 -3  4]\n",
            " [ 1  1  1]]\n",
            "\n",
            "Vector B: \n",
            " [14 10 14]\n",
            "[14 10 14]\n"
          ]
        }
      ]
    },
    {
      "cell_type": "markdown",
      "source": [
        "5. Multiply\n",
        "𝐴\n",
        "A by\n",
        "𝐵\n",
        "B"
      ],
      "metadata": {
        "id": "weIISgXpTgaF"
      },
      "id": "weIISgXpTgaF"
    },
    {
      "cell_type": "code",
      "source": [
        "A = np.array([[2, 1, 3],[3, -2, 1],[-1, 0, 1]])\n",
        "B = np.array([[1, -2],[2, 1],[4, -2]])\n",
        "\n",
        "result = np.dot(A, B)\n",
        "print(\"A * B =\\n\", result)"
      ],
      "metadata": {
        "colab": {
          "base_uri": "https://localhost:8080/"
        },
        "id": "zN7ZUxfxKTCa",
        "outputId": "2b35a3f5-9e56-4219-8466-33dfde47b145"
      },
      "id": "zN7ZUxfxKTCa",
      "execution_count": null,
      "outputs": [
        {
          "output_type": "stream",
          "name": "stdout",
          "text": [
            "A * B =\n",
            " [[ 16  -9]\n",
            " [  3 -10]\n",
            " [  3   0]]\n"
          ]
        }
      ]
    },
    {
      "cell_type": "markdown",
      "id": "a369fcc3",
      "metadata": {
        "id": "a369fcc3"
      },
      "source": [
        "# H.W Exercise (1):\n",
        "![image.png](data:image/png;base64,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)\n"
      ]
    },
    {
      "cell_type": "markdown",
      "source": [
        "Define Matrices\n",
        "𝐴\n",
        "A and\n",
        "𝐵\n",
        "B"
      ],
      "metadata": {
        "id": "H-CK6WKIU_91"
      },
      "id": "H-CK6WKIU_91"
    },
    {
      "cell_type": "code",
      "source": [
        "A = np.array([[0, 1, 1],[1, 0, 1],[1, 1, 0]])\n",
        "B = np.array([[0, 2, 3],[0, 5, 0],[7, 0, 0]])"
      ],
      "metadata": {
        "id": "-TcdUwI4UxRL"
      },
      "id": "-TcdUwI4UxRL",
      "execution_count": null,
      "outputs": []
    },
    {
      "cell_type": "markdown",
      "source": [
        "Multiply\n",
        "𝐴\n",
        "A and\n",
        "𝐵\n",
        "B Element by Element\n"
      ],
      "metadata": {
        "id": "v2inuU88VF7N"
      },
      "id": "v2inuU88VF7N"
    },
    {
      "cell_type": "code",
      "source": [
        "mult_ab = A * B\n",
        "print(mult_ab)"
      ],
      "metadata": {
        "colab": {
          "base_uri": "https://localhost:8080/"
        },
        "id": "b8JQeq1ZUxNm",
        "outputId": "81e8607f-996e-4b47-d357-16aad82b6eed"
      },
      "id": "b8JQeq1ZUxNm",
      "execution_count": null,
      "outputs": [
        {
          "output_type": "stream",
          "name": "stdout",
          "text": [
            "[[0 2 3]\n",
            " [0 0 0]\n",
            " [7 0 0]]\n"
          ]
        }
      ]
    },
    {
      "cell_type": "markdown",
      "source": [
        " Add\n",
        "𝐴\n",
        "A and\n",
        "𝐵\n",
        "B Element by Element"
      ],
      "metadata": {
        "id": "ODjPKYRrVi5H"
      },
      "id": "ODjPKYRrVi5H"
    },
    {
      "cell_type": "code",
      "source": [
        "add_ab = A + B\n",
        "print(add_ab)"
      ],
      "metadata": {
        "colab": {
          "base_uri": "https://localhost:8080/"
        },
        "id": "CXXeHhnRUxLV",
        "outputId": "0b93c822-8f3c-4d27-fc76-c08192c5545b"
      },
      "id": "CXXeHhnRUxLV",
      "execution_count": null,
      "outputs": [
        {
          "output_type": "stream",
          "name": "stdout",
          "text": [
            "[[0 3 4]\n",
            " [1 5 1]\n",
            " [8 1 0]]\n"
          ]
        }
      ]
    },
    {
      "cell_type": "markdown",
      "source": [
        "Transpose Matrix\n",
        "𝐴\n",
        "A"
      ],
      "metadata": {
        "id": "9Gd2OsC3WHYf"
      },
      "id": "9Gd2OsC3WHYf"
    },
    {
      "cell_type": "code",
      "execution_count": null,
      "id": "7f99e3d8",
      "metadata": {
        "id": "7f99e3d8",
        "colab": {
          "base_uri": "https://localhost:8080/"
        },
        "outputId": "ec80132c-ac95-4def-ae10-cfb122572946"
      },
      "outputs": [
        {
          "output_type": "stream",
          "name": "stdout",
          "text": [
            "[[0 1 1]\n",
            " [1 0 1]\n",
            " [1 1 0]]\n"
          ]
        }
      ],
      "source": [
        "A_transpose = A.T\n",
        "print(A_transpose)"
      ]
    },
    {
      "cell_type": "markdown",
      "source": [
        "Extract the Second Row of Matrix\n",
        "𝐴\n",
        "A"
      ],
      "metadata": {
        "id": "qG7M-5_0WTns"
      },
      "id": "qG7M-5_0WTns"
    },
    {
      "cell_type": "code",
      "source": [
        "second_row_A = A[1]\n",
        "print(second_row_A)"
      ],
      "metadata": {
        "colab": {
          "base_uri": "https://localhost:8080/"
        },
        "id": "0_B-u45oWMxA",
        "outputId": "8e3e448f-5ea3-4c4a-9f18-8d1c19822579"
      },
      "id": "0_B-u45oWMxA",
      "execution_count": null,
      "outputs": [
        {
          "output_type": "stream",
          "name": "stdout",
          "text": [
            "[1 0 1]\n"
          ]
        }
      ]
    },
    {
      "cell_type": "markdown",
      "source": [
        "Use Matrix Slicing to Define Vectors\n",
        "𝑎\n",
        "a and\n",
        "𝑏\n",
        "b, then Add Them"
      ],
      "metadata": {
        "id": "gxwwVgEcWpdz"
      },
      "id": "gxwwVgEcWpdz"
    },
    {
      "cell_type": "code",
      "source": [
        "a = A[:, 2]\n",
        "b = B[2, :]\n",
        "print(a)\n",
        "print(b)\n",
        "add_a_b = a + b\n",
        "print(add_a_b)"
      ],
      "metadata": {
        "colab": {
          "base_uri": "https://localhost:8080/"
        },
        "id": "dxTrm-o9WMtf",
        "outputId": "26109f16-e0b7-4e05-86d5-511139a2e538"
      },
      "id": "dxTrm-o9WMtf",
      "execution_count": null,
      "outputs": [
        {
          "output_type": "stream",
          "name": "stdout",
          "text": [
            "[1 1 0]\n",
            "[7 0 0]\n",
            "[8 1 0]\n"
          ]
        }
      ]
    },
    {
      "cell_type": "markdown",
      "id": "1eb28df4",
      "metadata": {
        "id": "1eb28df4"
      },
      "source": [
        "# H.W Exercise (2):\n",
        "![image.png](data:image/png;base64,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)![image.png](attachment:image.png)"
      ]
    },
    {
      "cell_type": "markdown",
      "source": [
        "Define the Vectors\n",
        "𝑣\n",
        "v and\n",
        "𝑢\n",
        "u"
      ],
      "metadata": {
        "id": "HbimpZeaXVTY"
      },
      "id": "HbimpZeaXVTY"
    },
    {
      "cell_type": "code",
      "source": [
        "import numpy as np\n",
        "\n",
        "v = np.array([[2],[4],[1]])\n",
        "u = np.array([[1],[3],[5]])"
      ],
      "metadata": {
        "id": "dv65dPjAXUil"
      },
      "id": "dv65dPjAXUil",
      "execution_count": null,
      "outputs": []
    },
    {
      "cell_type": "markdown",
      "source": [
        "Find the dot products of v and u.\n"
      ],
      "metadata": {
        "id": "vT8GksN_XsUS"
      },
      "id": "vT8GksN_XsUS"
    },
    {
      "cell_type": "code",
      "source": [
        "dot_uv = u.T @ v\n",
        "dot_uv"
      ],
      "metadata": {
        "colab": {
          "base_uri": "https://localhost:8080/"
        },
        "id": "oYlK-4l7YAzV",
        "outputId": "0e76b146-10e1-400d-a95b-a991262c7323"
      },
      "id": "oYlK-4l7YAzV",
      "execution_count": null,
      "outputs": [
        {
          "output_type": "execute_result",
          "data": {
            "text/plain": [
              "array([[19]])"
            ]
          },
          "metadata": {},
          "execution_count": 117
        }
      ]
    },
    {
      "cell_type": "markdown",
      "source": [
        "2. Find the Vector Norm for Each Vector (L1, L2, L3, L4, Max)"
      ],
      "metadata": {
        "id": "J04X8WwoYVDH"
      },
      "id": "J04X8WwoYVDH"
    },
    {
      "cell_type": "code",
      "source": [
        "def norms(vector):\n",
        "  vector = vector.flatten()\n",
        "  L1 = np.linalg.norm(vector, ord=1)\n",
        "  L2 = np.linalg.norm(vector, ord=2)\n",
        "  L3 = np.linalg.norm(vector, ord=3)\n",
        "  L4 = np.linalg.norm(vector, ord=4)\n",
        "  MaxL = np.linalg.norm(vector, ord=np.inf)\n",
        "  return L1, L2, L3, L4, MaxL\n",
        "\n",
        "print(\"L1, L2, L3, L4, MaxL\")\n",
        "print(\"u norms \", norms(u))\n",
        "print(\"v norms\", norms(v))"
      ],
      "metadata": {
        "colab": {
          "base_uri": "https://localhost:8080/"
        },
        "id": "KX2UxZBhXUfQ",
        "outputId": "8c5c9dff-893d-4dc9-a202-861821e4a18d"
      },
      "id": "KX2UxZBhXUfQ",
      "execution_count": null,
      "outputs": [
        {
          "output_type": "stream",
          "name": "stdout",
          "text": [
            "L1, L2, L3, L4, MaxL\n",
            "u norms  (9.0, 5.916079783099616, 5.348481241239363, 5.156497997732246, 5.0)\n",
            "v norms (7.0, 4.58257569495584, 4.179339196381232, 4.064813850824944, 4.0)\n"
          ]
        }
      ]
    },
    {
      "cell_type": "markdown",
      "source": [
        "3. Find the Vector Sum\n",
        "𝑣\n",
        "+\n",
        "𝑢\n",
        "v+u and the Norm of This Sum"
      ],
      "metadata": {
        "id": "lbk-mPYxZIsb"
      },
      "id": "lbk-mPYxZIsb"
    },
    {
      "cell_type": "code",
      "source": [
        "sum_uv = u + v\n",
        "sum_uv_norms = norms(sum_uv)\n",
        "\n",
        "print(\"sum_uv\", sum_uv)\n",
        "print(\"sum_uv_norms\", sum_uv_norms)"
      ],
      "metadata": {
        "colab": {
          "base_uri": "https://localhost:8080/"
        },
        "id": "piLwBpqtXUc1",
        "outputId": "0e0dc2e9-9198-4ecb-9b5b-65622a08a3b5"
      },
      "id": "piLwBpqtXUc1",
      "execution_count": null,
      "outputs": [
        {
          "output_type": "stream",
          "name": "stdout",
          "text": [
            "sum_uv [3 7 6]\n",
            "sum_uv_norms (16.0, 9.695359714832659, 8.368209391204644, 7.839989632806745, 7.0)\n"
          ]
        }
      ]
    },
    {
      "cell_type": "markdown",
      "id": "97db2abf",
      "metadata": {
        "id": "97db2abf"
      },
      "source": [
        "# H.W Exercise (3):\n",
        "![image.png](data:image/png;base64,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)"
      ]
    },
    {
      "cell_type": "markdown",
      "source": [
        "1. Solve the systems of equations using elimination and back substitution:"
      ],
      "metadata": {
        "id": "ijdBtRggZz35"
      },
      "id": "ijdBtRggZz35"
    },
    {
      "cell_type": "code",
      "execution_count": null,
      "id": "351caffb",
      "metadata": {
        "id": "351caffb",
        "colab": {
          "base_uri": "https://localhost:8080/"
        },
        "outputId": "9da36637-2924-4248-f602-044e81218d5b"
      },
      "outputs": [
        {
          "output_type": "execute_result",
          "data": {
            "text/plain": [
              "array([ 2., -1.])"
            ]
          },
          "metadata": {},
          "execution_count": 114
        }
      ],
      "source": [
        "A1 = np.array([[2, 3], [10, 9]])\n",
        "b1 = np.array([1, 11])\n",
        "\n",
        "solution1 = np.linalg.solve(A1, b1)\n",
        "solution1"
      ]
    },
    {
      "cell_type": "code",
      "source": [
        "A2 = np.array([[2, -4], [-1, 5]])\n",
        "b2 = np.array([6, 0])\n",
        "\n",
        "solution2 = np.linalg.solve(A2, b2)\n",
        "solution2"
      ],
      "metadata": {
        "colab": {
          "base_uri": "https://localhost:8080/"
        },
        "id": "hydYSqwCZ7sQ",
        "outputId": "9055caba-512f-4e29-ac2e-14cc7d6d93e4"
      },
      "id": "hydYSqwCZ7sQ",
      "execution_count": null,
      "outputs": [
        {
          "output_type": "execute_result",
          "data": {
            "text/plain": [
              "array([5., 1.])"
            ]
          },
          "metadata": {},
          "execution_count": 115
        }
      ]
    },
    {
      "cell_type": "markdown",
      "source": [
        "![image.png](data:image/png;base64,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)"
      ],
      "metadata": {
        "id": "ViupucgHbicd"
      },
      "id": "ViupucgHbicd"
    },
    {
      "cell_type": "code",
      "source": [
        "import numpy as np\n",
        "\n",
        "matrix = np.array([\n",
        "    [1, 1, 0],\n",
        "    [1, 2, 1],\n",
        "    [0, 1, 2]\n",
        "], dtype=float)\n",
        "\n",
        "matrix[0] = matrix[0] / matrix[0, 0]\n",
        "\n",
        "matrix[1] = matrix[1] - matrix[1, 0] * matrix[0]\n",
        "matrix[2] = matrix[2] - matrix[2, 0] * matrix[0]\n",
        "\n",
        "matrix[1] = matrix[1] / matrix[1, 1]\n",
        "\n",
        "matrix[2] = matrix[2] - matrix[2, 1] * matrix[1]\n",
        "\n",
        "matrix[2] = matrix[2] / matrix[2, 2]\n",
        "\n",
        "matrix"
      ],
      "metadata": {
        "colab": {
          "base_uri": "https://localhost:8080/"
        },
        "id": "TtARfwmdZ7o4",
        "outputId": "eec00243-84c7-4998-90f2-58b23e0ea8ac"
      },
      "id": "TtARfwmdZ7o4",
      "execution_count": null,
      "outputs": [
        {
          "output_type": "execute_result",
          "data": {
            "text/plain": [
              "array([[1., 1., 0.],\n",
              "       [0., 1., 1.],\n",
              "       [0., 0., 1.]])"
            ]
          },
          "metadata": {},
          "execution_count": 121
        }
      ]
    },
    {
      "cell_type": "code",
      "source": [
        "# 3. Use elimination to reach upper triangular matrices U. Solve by back substitution or explain why this is impossible.\n",
        "A1 = np.array([[1, 1, 1], [1, 1, -1], [1, -1, 1]])\n",
        "A2 = np.array([[1, 1, 1], [1, 1, -1], [-1, -1, 1]])\n",
        "B1 = np.array([[7],[5],[3]])\n",
        "B2 = np.array([[7],[5],[3]])\n",
        "\n",
        "def gaussian_elimination(A, B):\n",
        "    A = A.astype(float)\n",
        "    B = B.astype(float)\n",
        "    rows, cols = A.shape\n",
        "\n",
        "    for i in range(rows):\n",
        "        # Make the diagonal element 1\n",
        "        if A[i, i] != 0:\n",
        "            A[i] = A[i] / A[i, i]\n",
        "            B[i] = B[i] / A[i, i]\n",
        "\n",
        "        # Eliminate elements below the pivot\n",
        "        for j in range(i + 1, rows):\n",
        "            factor = A[j, i]\n",
        "            A[j] = A[j] - factor * A[i]\n",
        "            B[j] = B[j] - factor * B[i]\n",
        "\n",
        "    return A, B"
      ],
      "metadata": {
        "id": "MzIIeXXfiaHQ"
      },
      "id": "MzIIeXXfiaHQ",
      "execution_count": null,
      "outputs": []
    },
    {
      "cell_type": "code",
      "source": [
        "def back_substitution(U, B):\n",
        "    rows = U.shape[0]\n",
        "    x = np.zeros(rows)\n",
        "\n",
        "    for i in range(rows - 1, -1, -1):\n",
        "        if U[i, i] == 0:\n",
        "            if B[i] != 0:\n",
        "                raise ValueError(\"No solution exists (inconsistent system).\")\n",
        "            else:\n",
        "                x[i] = 0\n",
        "        else:\n",
        "            x[i] = (B[i] - np.dot(U[i, i + 1:], x[i + 1:])) / U[i, i]\n",
        "\n",
        "    return x"
      ],
      "metadata": {
        "id": "ahHuYPgijqX6"
      },
      "id": "ahHuYPgijqX6",
      "execution_count": null,
      "outputs": []
    },
    {
      "cell_type": "code",
      "source": [
        "# for A1 and B1\n",
        "print(\"Solving for A1 and B1:\")\n",
        "U1, B1_mod = gaussian_elimination(A1, B1)\n",
        "try:\n",
        "    x1 = back_substitution(U1, B1_mod)\n",
        "    print(\"Upper Triangular Matrix U1:\")\n",
        "    print(U1)\n",
        "    print(\"Solution x1:\")\n",
        "    print(x1)\n",
        "except ValueError as e:\n",
        "    print(e)"
      ],
      "metadata": {
        "colab": {
          "base_uri": "https://localhost:8080/"
        },
        "id": "nZGWel5NkAD_",
        "outputId": "611b39f0-7e22-4412-9684-9aeeac8b4da7"
      },
      "id": "nZGWel5NkAD_",
      "execution_count": null,
      "outputs": [
        {
          "output_type": "stream",
          "name": "stdout",
          "text": [
            "Solving for A1 and B1:\n",
            "No solution exists (inconsistent system).\n"
          ]
        },
        {
          "output_type": "stream",
          "name": "stderr",
          "text": [
            "<ipython-input-26-4561e973f745>:12: DeprecationWarning: Conversion of an array with ndim > 0 to a scalar is deprecated, and will error in future. Ensure you extract a single element from your array before performing this operation. (Deprecated NumPy 1.25.)\n",
            "  x[i] = (B[i] - np.dot(U[i, i + 1:], x[i + 1:])) / U[i, i]\n"
          ]
        }
      ]
    },
    {
      "cell_type": "code",
      "source": [
        "# for A2 and B2\n",
        "print(\"\\nSolving for A2 and B2:\")\n",
        "U2, B2_mod = gaussian_elimination(A2, B2)\n",
        "try:\n",
        "    x2 = back_substitution(U2, B2_mod)\n",
        "    print(\"Upper Triangular Matrix U2:\")\n",
        "    print(U2)\n",
        "    print(\"Solution x2:\")\n",
        "    print(x2)\n",
        "except ValueError as e:\n",
        "    print(e)"
      ],
      "metadata": {
        "colab": {
          "base_uri": "https://localhost:8080/"
        },
        "id": "Ti-ItFEWkES9",
        "outputId": "4605adca-51f1-45ed-c8c4-fc54dbed2b4e"
      },
      "id": "Ti-ItFEWkES9",
      "execution_count": null,
      "outputs": [
        {
          "output_type": "stream",
          "name": "stdout",
          "text": [
            "\n",
            "Solving for A2 and B2:\n",
            "No solution exists (inconsistent system).\n"
          ]
        },
        {
          "output_type": "stream",
          "name": "stderr",
          "text": [
            "<ipython-input-26-4561e973f745>:12: DeprecationWarning: Conversion of an array with ndim > 0 to a scalar is deprecated, and will error in future. Ensure you extract a single element from your array before performing this operation. (Deprecated NumPy 1.25.)\n",
            "  x[i] = (B[i] - np.dot(U[i, i + 1:], x[i + 1:])) / U[i, i]\n"
          ]
        }
      ]
    },
    {
      "cell_type": "code",
      "source": [
        "print(\"Upper Triangular of Matrix 1:\\n\", U1)\n",
        "print(\"\\nUpper Triangular of Matrix 2:\\n\", U2)\n",
        "print(\"\\nB1_mod:\\n\", B2_mod)"
      ],
      "metadata": {
        "colab": {
          "base_uri": "https://localhost:8080/"
        },
        "id": "sBulJinnkI1H",
        "outputId": "46843d75-ff9c-49b2-d4d9-1df48da07180"
      },
      "id": "sBulJinnkI1H",
      "execution_count": null,
      "outputs": [
        {
          "output_type": "stream",
          "name": "stdout",
          "text": [
            "Upper Triangular of Matrix 1:\n",
            " [[ 1.   1.   1. ]\n",
            " [ 0.   0.  -2. ]\n",
            " [-0.   0.5  1. ]]\n",
            "\n",
            "Upper Triangular of Matrix 2:\n",
            " [[ 1.  1.  1.]\n",
            " [ 0.  0. -2.]\n",
            " [ 0.  0.  1.]]\n",
            "\n",
            "B1_mod:\n",
            " [[ 7.]\n",
            " [-2.]\n",
            " [10.]]\n"
          ]
        }
      ]
    }
  ],
  "metadata": {
    "kernelspec": {
      "display_name": "Python 3 (ipykernel)",
      "language": "python",
      "name": "python3"
    },
    "language_info": {
      "codemirror_mode": {
        "name": "ipython",
        "version": 3
      },
      "file_extension": ".py",
      "mimetype": "text/x-python",
      "name": "python",
      "nbconvert_exporter": "python",
      "pygments_lexer": "ipython3",
      "version": "3.9.12"
    },
    "colab": {
      "provenance": [],
      "include_colab_link": true
    }
  },
  "nbformat": 4,
  "nbformat_minor": 5
}